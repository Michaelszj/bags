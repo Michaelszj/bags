{
 "cells": [
  {
   "cell_type": "code",
   "execution_count": 1,
   "metadata": {},
   "outputs": [
    {
     "name": "stderr",
     "output_type": "stream",
     "text": [
      "/home/tingyang/miniconda3/envs/DGS_my/lib/python3.8/site-packages/tqdm/auto.py:21: TqdmWarning: IProgress not found. Please update jupyter and ipywidgets. See https://ipywidgets.readthedocs.io/en/stable/user_install.html\n",
      "  from .autonotebook import tqdm as notebook_tqdm\n"
     ]
    }
   ],
   "source": [
    "import torch\n",
    "import clip\n",
    "import glob\n",
    "import os\n",
    "import cv2\n",
    "from PIL import Image\n",
    "import numpy as np\n",
    "from tqdm import tqdm\n",
    "import torchmetrics\n",
    "import torchvision"
   ]
  },
  {
   "cell_type": "code",
   "execution_count": 28,
   "metadata": {},
   "outputs": [],
   "source": [
    "def read_images(path):\n",
    "    image_files = glob.glob(os.path.join(path, '*.png'))  # Change the file extension if needed\n",
    "    image_files.sort()  # Sort the image files alphabetically\n",
    "    images = []\n",
    "    for file in image_files:\n",
    "        image = Image.open(file)  # Read the image using OpenCV or any other library\n",
    "        images.append(image)\n",
    "        # print(file)\n",
    "    return images\n",
    "\n",
    "\n",
    "device = \"cuda\" if torch.cuda.is_available() else \"cpu\"\n",
    "model, preprocess = clip.load(\"ViT-B/32\", device=device)"
   ]
  },
  {
   "cell_type": "code",
   "execution_count": 3,
   "metadata": {},
   "outputs": [
    {
     "name": "stderr",
     "output_type": "stream",
     "text": [
      "/home/tingyang/miniconda3/envs/DGS_my/lib/python3.8/site-packages/torchmetrics/utilities/prints.py:43: UserWarning: Metric `Kernel Inception Distance` will save all extracted features in buffer. For large datasets this may lead to large memory footprint.\n",
      "  warnings.warn(*args, **kwargs)  # noqa: B028\n"
     ]
    }
   ],
   "source": [
    "from torchmetrics.image import KernelInceptionDistance\n",
    "KID = KernelInceptionDistance(subsets=100,subset_size=20).cuda()"
   ]
  },
  {
   "cell_type": "code",
   "execution_count": null,
   "metadata": {},
   "outputs": [],
   "source": [
    "logdir = 'logdir'\n",
    "folders = image_files = glob.glob(os.path.join(logdir, 'eval-*1'))\n",
    "folders.sort()\n",
    "# seqname = 'bear'\n",
    "# path = f'logdir/eval-{seqname}-1/eval/'\n",
    "# Load the CLIP model\n",
    "cross_total = 0.\n",
    "compare_total = 0.\n",
    "mean_total = 0.\n",
    "std_total = 0.\n",
    "folder_num = 0\n",
    "for folder in folders:\n",
    "    path = os.path.join(folder, 'rendered')\n",
    "    print(path)\n",
    "    seqname = folder.split('-')[1]\n",
    "    gt_path = f'datasource/{seqname}/imgs/'\n",
    "    mask_path = f'datasource/{seqname}/masks/'\n",
    "    gts = read_images(gt_path)\n",
    "    masks = read_images(mask_path)\n",
    "    imgs = read_images(path)\n",
    "    # print(len(imgs))\n",
    "    sim_total = 0.\n",
    "    sim_num = 0\n",
    "    gt_tensor = []\n",
    "    render_tensor = []\n",
    "    for i in tqdm(range(len(imgs))):\n",
    "        \n",
    "        gts[i] = np.array(gts[i])\n",
    "        masks[i] = np.array(masks[i])\n",
    "        gts[i][masks[i][:,:,2]<128] = 255\n",
    "        gts[i] = np.concatenate([np.ones([420,1920,3],dtype=gts[i].dtype)*255,gts[i],np.ones([420,1920,3],dtype=gts[i].dtype)*255],axis=0)\n",
    "        gt_tensor.append(torch.from_numpy(np.array(torchvision.transforms.Resize([512,512])(Image.fromarray(gts[i])))).cuda())\n",
    "        render_tensor.append(torch.from_numpy(np.array(imgs[i])).cuda())\n",
    "        gts[i] = Image.fromarray(gts[i])\n",
    "        with torch.no_grad():\n",
    "            gt_feature = model.encode_image(preprocess(gts[i]).unsqueeze(0).to(device))\n",
    "            render_feature = model.encode_image(preprocess(imgs[i]).unsqueeze(0).to(device))\n",
    "            sim = torch.nn.functional.cosine_similarity(gt_feature, render_feature)\n",
    "        sim_total += sim\n",
    "        sim_num += 1\n",
    "    print('over')\n",
    "    try:\n",
    "        sim_avg = sim_total / sim_num\n",
    "        print(path,':',sim_avg)\n",
    "        compare_total += sim_avg\n",
    "        folder_num += 1\n",
    "    except:\n",
    "        print('Error Calculating CLIP:',path)\n",
    "    try:\n",
    "        gt_tensor = torch.stack(gt_tensor,dim=0).permute(0,3,1,2).cuda()\n",
    "        render_tensor = torch.stack(render_tensor,dim=0).permute(0,3,1,2).cuda()\n",
    "        KID.update(gt_tensor, real=True)\n",
    "        KID.update(render_tensor, real=False)\n",
    "        mean, std = KID.compute()\n",
    "        KID.reset()\n",
    "        mean_total += mean\n",
    "        std_total += std\n",
    "        print(path,':',mean,' ',std)\n",
    "    except:\n",
    "        print('Error Calculating KID:',path)\n",
    "    \n",
    "\n",
    "clip_avg_cross = compare_total / folder_num\n",
    "mean_avg = mean_total / folder_num\n",
    "std_avg = std_total / folder_num\n",
    "# Print the cosine distance\n",
    "print(clip_avg_cross, mean_avg, std_avg)"
   ]
  },
  {
   "cell_type": "code",
   "execution_count": 32,
   "metadata": {},
   "outputs": [
    {
     "name": "stdout",
     "output_type": "stream",
     "text": [
      "logdir/eval-bailang-1/eval\n"
     ]
    },
    {
     "name": "stderr",
     "output_type": "stream",
     "text": [
      "100%|██████████| 22/22 [00:00<00:00, 57.43it/s]\n"
     ]
    },
    {
     "name": "stdout",
     "output_type": "stream",
     "text": [
      "over\n",
      "logdir/eval-bailang-1/eval : tensor([0.9155], device='cuda:0', dtype=torch.float16)\n",
      "logdir/eval-baiyou-1/eval\n"
     ]
    },
    {
     "name": "stderr",
     "output_type": "stream",
     "text": [
      "100%|██████████| 8/8 [00:00<00:00, 59.00it/s]\n"
     ]
    },
    {
     "name": "stdout",
     "output_type": "stream",
     "text": [
      "over\n",
      "logdir/eval-baiyou-1/eval : tensor([0.9478], device='cuda:0', dtype=torch.float16)\n",
      "logdir/eval-bear-1/eval\n"
     ]
    },
    {
     "name": "stderr",
     "output_type": "stream",
     "text": [
      "100%|██████████| 9/9 [00:00<00:00, 56.40it/s]\n"
     ]
    },
    {
     "name": "stdout",
     "output_type": "stream",
     "text": [
      "over\n",
      "logdir/eval-bear-1/eval : tensor([0.9160], device='cuda:0', dtype=torch.float16)\n",
      "logdir/eval-bird-1/eval\n"
     ]
    },
    {
     "name": "stderr",
     "output_type": "stream",
     "text": [
      "100%|██████████| 10/10 [00:00<00:00, 60.00it/s]\n"
     ]
    },
    {
     "name": "stdout",
     "output_type": "stream",
     "text": [
      "over\n",
      "logdir/eval-camel-1/eval\n"
     ]
    },
    {
     "name": "stderr",
     "output_type": "stream",
     "text": [
      "100%|██████████| 14/14 [00:00<00:00, 55.04it/s]\n"
     ]
    },
    {
     "name": "stdout",
     "output_type": "stream",
     "text": [
      "over\n",
      "logdir/eval-chailang-1/eval\n"
     ]
    },
    {
     "name": "stderr",
     "output_type": "stream",
     "text": [
      "100%|██████████| 10/10 [00:00<00:00, 60.51it/s]\n"
     ]
    },
    {
     "name": "stdout",
     "output_type": "stream",
     "text": [
      "over\n",
      "logdir/eval-chailang-1/eval : tensor([0.9258], device='cuda:0', dtype=torch.float16)\n",
      "logdir/eval-coco-1/eval\n"
     ]
    },
    {
     "name": "stderr",
     "output_type": "stream",
     "text": [
      "100%|██████████| 10/10 [00:00<00:00, 61.68it/s]\n"
     ]
    },
    {
     "name": "stdout",
     "output_type": "stream",
     "text": [
      "over\n",
      "logdir/eval-coco-1/eval : tensor([0.9492], device='cuda:0', dtype=torch.float16)\n",
      "logdir/eval-corgi-1/eval\n"
     ]
    },
    {
     "name": "stderr",
     "output_type": "stream",
     "text": [
      "100%|██████████| 7/7 [00:00<00:00, 61.37it/s]\n"
     ]
    },
    {
     "name": "stdout",
     "output_type": "stream",
     "text": [
      "over\n",
      "logdir/eval-corgi-1/eval : tensor([0.9189], device='cuda:0', dtype=torch.float16)\n",
      "logdir/eval-daixiong-1/eval\n"
     ]
    },
    {
     "name": "stderr",
     "output_type": "stream",
     "text": [
      "100%|██████████| 10/10 [00:00<00:00, 45.90it/s]\n"
     ]
    },
    {
     "name": "stdout",
     "output_type": "stream",
     "text": [
      "over\n",
      "logdir/eval-daixiong-1/eval : tensor([0.9180], device='cuda:0', dtype=torch.float16)\n",
      "logdir/eval-elephant-1/eval\n"
     ]
    },
    {
     "name": "stderr",
     "output_type": "stream",
     "text": [
      "100%|██████████| 9/9 [00:00<00:00, 53.60it/s]\n"
     ]
    },
    {
     "name": "stdout",
     "output_type": "stream",
     "text": [
      "over\n",
      "logdir/eval-elephant-1/eval : tensor([0.9644], device='cuda:0', dtype=torch.float16)\n",
      "logdir/eval-fox-1/eval\n"
     ]
    },
    {
     "name": "stderr",
     "output_type": "stream",
     "text": [
      "100%|██████████| 10/10 [00:00<00:00, 58.37it/s]\n"
     ]
    },
    {
     "name": "stdout",
     "output_type": "stream",
     "text": [
      "over\n",
      "logdir/eval-fox-1/eval : tensor([0.9009], device='cuda:0', dtype=torch.float16)\n",
      "logdir/eval-fox_new-1/eval\n"
     ]
    },
    {
     "name": "stderr",
     "output_type": "stream",
     "text": [
      "100%|██████████| 8/8 [00:00<00:00, 58.75it/s]\n"
     ]
    },
    {
     "name": "stdout",
     "output_type": "stream",
     "text": [
      "over\n",
      "logdir/eval-fox_new-1/eval : tensor([0.9360], device='cuda:0', dtype=torch.float16)\n",
      "logdir/eval-haibao-1/eval\n"
     ]
    },
    {
     "name": "stderr",
     "output_type": "stream",
     "text": [
      "100%|██████████| 8/8 [00:00<00:00, 54.10it/s]\n"
     ]
    },
    {
     "name": "stdout",
     "output_type": "stream",
     "text": [
      "over\n",
      "logdir/eval-haibao-1/eval : tensor([0.9111], device='cuda:0', dtype=torch.float16)\n",
      "logdir/eval-haigui-1/eval\n"
     ]
    },
    {
     "name": "stderr",
     "output_type": "stream",
     "text": [
      "100%|██████████| 10/10 [00:00<00:00, 54.70it/s]\n"
     ]
    },
    {
     "name": "stdout",
     "output_type": "stream",
     "text": [
      "over\n",
      "logdir/eval-haigui-1/eval : tensor([0.9194], device='cuda:0', dtype=torch.float16)\n",
      "logdir/eval-jiaolang-1/eval\n"
     ]
    },
    {
     "name": "stderr",
     "output_type": "stream",
     "text": [
      "100%|██████████| 10/10 [00:00<00:00, 57.71it/s]\n"
     ]
    },
    {
     "name": "stdout",
     "output_type": "stream",
     "text": [
      "over\n",
      "logdir/eval-jiaolang-1/eval : tensor([0.9380], device='cuda:0', dtype=torch.float16)\n",
      "logdir/eval-jingyu-1/eval\n"
     ]
    },
    {
     "name": "stderr",
     "output_type": "stream",
     "text": [
      "100%|██████████| 8/8 [00:00<00:00, 62.74it/s]\n"
     ]
    },
    {
     "name": "stdout",
     "output_type": "stream",
     "text": [
      "over\n",
      "logdir/eval-jingyu-1/eval : tensor([0.9282], device='cuda:0', dtype=torch.float16)\n",
      "logdir/eval-lion-1/eval\n"
     ]
    },
    {
     "name": "stderr",
     "output_type": "stream",
     "text": [
      "100%|██████████| 9/9 [00:00<00:00, 62.60it/s]\n"
     ]
    },
    {
     "name": "stdout",
     "output_type": "stream",
     "text": [
      "over\n",
      "logdir/eval-lion-1/eval : tensor([0.9453], device='cuda:0', dtype=torch.float16)\n",
      "logdir/eval-mano-1/eval\n"
     ]
    },
    {
     "name": "stderr",
     "output_type": "stream",
     "text": [
      "100%|██████████| 8/8 [00:00<00:00, 61.99it/s]\n"
     ]
    },
    {
     "name": "stdout",
     "output_type": "stream",
     "text": [
      "over\n",
      "logdir/eval-mano-1/eval : tensor([0.9102], device='cuda:0', dtype=torch.float16)\n",
      "logdir/eval-ostrich-1/eval\n"
     ]
    },
    {
     "name": "stderr",
     "output_type": "stream",
     "text": [
      "100%|██████████| 9/9 [00:00<00:00, 45.73it/s]\n"
     ]
    },
    {
     "name": "stdout",
     "output_type": "stream",
     "text": [
      "over\n",
      "logdir/eval-ostrich-1/eval : tensor([0.9072], device='cuda:0', dtype=torch.float16)\n",
      "logdir/eval-panda-1/eval\n"
     ]
    },
    {
     "name": "stderr",
     "output_type": "stream",
     "text": [
      "100%|██████████| 9/9 [00:00<00:00, 53.61it/s]\n"
     ]
    },
    {
     "name": "stdout",
     "output_type": "stream",
     "text": [
      "over\n",
      "logdir/eval-panda-1/eval : tensor([0.9478], device='cuda:0', dtype=torch.float16)\n",
      "logdir/eval-penguin-1/eval\n"
     ]
    },
    {
     "name": "stderr",
     "output_type": "stream",
     "text": [
      "100%|██████████| 9/9 [00:00<00:00, 59.56it/s]\n"
     ]
    },
    {
     "name": "stdout",
     "output_type": "stream",
     "text": [
      "over\n",
      "logdir/eval-penguin-1/eval : tensor([0.9341], device='cuda:0', dtype=torch.float16)\n",
      "logdir/eval-penguin_n-1/eval\n"
     ]
    },
    {
     "name": "stderr",
     "output_type": "stream",
     "text": [
      "100%|██████████| 38/38 [00:00<00:00, 57.12it/s]\n"
     ]
    },
    {
     "name": "stdout",
     "output_type": "stream",
     "text": [
      "over\n",
      "logdir/eval-rabbit-1/eval\n"
     ]
    },
    {
     "name": "stderr",
     "output_type": "stream",
     "text": [
      "100%|██████████| 17/17 [00:00<00:00, 61.21it/s]\n"
     ]
    },
    {
     "name": "stdout",
     "output_type": "stream",
     "text": [
      "over\n",
      "logdir/eval-rabbit-1/eval : tensor([0.9395], device='cuda:0', dtype=torch.float16)\n",
      "logdir/eval-raven-1/eval\n"
     ]
    },
    {
     "name": "stderr",
     "output_type": "stream",
     "text": [
      "100%|██████████| 13/13 [00:00<00:00, 60.31it/s]\n"
     ]
    },
    {
     "name": "stdout",
     "output_type": "stream",
     "text": [
      "over\n",
      "logdir/eval-seal-1/eval\n"
     ]
    },
    {
     "name": "stderr",
     "output_type": "stream",
     "text": [
      "100%|██████████| 31/31 [00:00<00:00, 56.49it/s]\n"
     ]
    },
    {
     "name": "stdout",
     "output_type": "stream",
     "text": [
      "over\n",
      "logdir/eval-shiba-1/eval\n"
     ]
    },
    {
     "name": "stderr",
     "output_type": "stream",
     "text": [
      "100%|██████████| 9/9 [00:00<00:00, 61.24it/s]\n"
     ]
    },
    {
     "name": "stdout",
     "output_type": "stream",
     "text": [
      "over\n",
      "logdir/eval-shiba-1/eval : tensor([0.9531], device='cuda:0', dtype=torch.float16)\n",
      "logdir/eval-shuita-1/eval\n"
     ]
    },
    {
     "name": "stderr",
     "output_type": "stream",
     "text": [
      "100%|██████████| 10/10 [00:00<00:00, 61.39it/s]\n"
     ]
    },
    {
     "name": "stdout",
     "output_type": "stream",
     "text": [
      "over\n",
      "logdir/eval-shuita-1/eval : tensor([0.9360], device='cuda:0', dtype=torch.float16)\n",
      "logdir/eval-shumao-1/eval\n"
     ]
    },
    {
     "name": "stderr",
     "output_type": "stream",
     "text": [
      "100%|██████████| 9/9 [00:00<00:00, 60.66it/s]\n"
     ]
    },
    {
     "name": "stdout",
     "output_type": "stream",
     "text": [
      "over\n",
      "logdir/eval-shumao-1/eval : tensor([0.9297], device='cuda:0', dtype=torch.float16)\n",
      "logdir/eval-snail-1/eval\n"
     ]
    },
    {
     "name": "stderr",
     "output_type": "stream",
     "text": [
      "100%|██████████| 10/10 [00:00<00:00, 55.47it/s]\n"
     ]
    },
    {
     "name": "stdout",
     "output_type": "stream",
     "text": [
      "over\n",
      "logdir/eval-snail-1/eval : tensor([0.9438], device='cuda:0', dtype=torch.float16)\n",
      "logdir/eval-snake-1/eval\n"
     ]
    },
    {
     "name": "stderr",
     "output_type": "stream",
     "text": [
      "100%|██████████| 10/10 [00:00<00:00, 61.45it/s]\n"
     ]
    },
    {
     "name": "stdout",
     "output_type": "stream",
     "text": [
      "over\n",
      "logdir/eval-snake-1/eval : tensor([0.9019], device='cuda:0', dtype=torch.float16)\n",
      "logdir/eval-snowleop-1/eval\n"
     ]
    },
    {
     "name": "stderr",
     "output_type": "stream",
     "text": [
      "100%|██████████| 33/33 [00:00<00:00, 58.02it/s]\n"
     ]
    },
    {
     "name": "stdout",
     "output_type": "stream",
     "text": [
      "over\n",
      "logdir/eval-stoat-1/eval\n"
     ]
    },
    {
     "name": "stderr",
     "output_type": "stream",
     "text": [
      "100%|██████████| 18/18 [00:00<00:00, 61.10it/s]\n"
     ]
    },
    {
     "name": "stdout",
     "output_type": "stream",
     "text": [
      "over\n",
      "logdir/eval-turtle-1/eval\n"
     ]
    },
    {
     "name": "stderr",
     "output_type": "stream",
     "text": [
      "100%|██████████| 10/10 [00:00<00:00, 60.51it/s]\n"
     ]
    },
    {
     "name": "stdout",
     "output_type": "stream",
     "text": [
      "over\n",
      "logdir/eval-turtle-1/eval : tensor([0.9175], device='cuda:0', dtype=torch.float16)\n",
      "logdir/eval-tusun-1/eval\n"
     ]
    },
    {
     "name": "stderr",
     "output_type": "stream",
     "text": [
      "100%|██████████| 9/9 [00:00<00:00, 61.76it/s]\n"
     ]
    },
    {
     "name": "stdout",
     "output_type": "stream",
     "text": [
      "over\n",
      "logdir/eval-tusun-1/eval : tensor([0.9243], device='cuda:0', dtype=torch.float16)\n",
      "logdir/eval-zongxiong-1/eval\n"
     ]
    },
    {
     "name": "stderr",
     "output_type": "stream",
     "text": [
      "100%|██████████| 33/33 [00:00<00:00, 53.31it/s]"
     ]
    },
    {
     "name": "stdout",
     "output_type": "stream",
     "text": [
      "over\n",
      "tensor([0.9292], device='cuda:0', dtype=torch.float16) tensor(0.1189, device='cuda:0') tensor(0.0109, device='cuda:0')\n"
     ]
    },
    {
     "name": "stderr",
     "output_type": "stream",
     "text": [
      "\n"
     ]
    }
   ],
   "source": [
    "logdir = 'logdir'\n",
    "folders = image_files = glob.glob(os.path.join(logdir, 'eval-*1'))\n",
    "folders.sort()\n",
    "# seqname = 'bear'\n",
    "# path = f'logdir/eval-{seqname}-1/eval/'\n",
    "# Load the CLIP model\n",
    "cross_total = 0.\n",
    "compare_total = 0.\n",
    "mean_total = 0.\n",
    "std_total = 0.\n",
    "folder_num = 0\n",
    "for folder in folders:\n",
    "    path = os.path.join(folder, 'eval')\n",
    "    print(path)\n",
    "    gts = read_images(path)\n",
    "    # print(len(imgs))\n",
    "    sim_total = 0.\n",
    "    sim_num = 0\n",
    "    features = []\n",
    "    for i in tqdm(range(len(gts))):\n",
    "        with torch.no_grad():\n",
    "            gt_feature = model.encode_image(preprocess(gts[i]).unsqueeze(0).to(device))\n",
    "            for f in features:\n",
    "                sim = torch.nn.functional.cosine_similarity(gt_feature, f)\n",
    "                sim_total += sim\n",
    "                # print(sim)\n",
    "                sim_num += 1\n",
    "            features.append(gt_feature)\n",
    "    print('over')\n",
    "    try:\n",
    "        sim_avg = sim_total / sim_num\n",
    "        if sim_avg<0.9:\n",
    "            continue\n",
    "        cross_total +=sim_avg\n",
    "        print(path,':',sim_avg)\n",
    "        folder_num += 1\n",
    "    except:\n",
    "        print('Error Calculating CLIP:',path)\n",
    "    \n",
    "    \n",
    "\n",
    "clip_avg_cross = cross_total / folder_num\n",
    "# Print the cosine distance\n",
    "print(clip_avg_cross, mean_avg, std_avg)"
   ]
  },
  {
   "cell_type": "code",
   "execution_count": 19,
   "metadata": {},
   "outputs": [
    {
     "name": "stdout",
     "output_type": "stream",
     "text": [
      "logdir/eval-panda-1/rendered/\n"
     ]
    },
    {
     "name": "stderr",
     "output_type": "stream",
     "text": [
      "100%|██████████| 66/66 [00:10<00:00,  6.16it/s]\n"
     ]
    },
    {
     "name": "stdout",
     "output_type": "stream",
     "text": [
      "logdir/eval-panda-1/rendered/ : tensor(0.0725, device='cuda:0')   tensor(0.0085, device='cuda:0')\n"
     ]
    }
   ],
   "source": [
    "from torch.nn.functional import interpolate\n",
    "KID = KernelInceptionDistance(subset_size=20,normalize=True).cuda()\n",
    "path = 'logdir/eval-panda-1/rendered/'\n",
    "print(path)\n",
    "gt_path = f'datasource/panda/imgs/'\n",
    "mask_path = f'datasource/panda/masks/'\n",
    "gts = read_images(gt_path)\n",
    "masks = read_images(mask_path)\n",
    "imgs = read_images(path)\n",
    "# print(len(imgs))\n",
    "sim_total = 0.\n",
    "sim_num = 0\n",
    "gt_tensor = []\n",
    "render_tensor = []\n",
    "for i in tqdm(range(len(imgs))):\n",
    "    \n",
    "    gts[i] = np.array(gts[i],dtype=np.float32)/255.\n",
    "    masks[i] = np.array(masks[i],dtype=np.float32)/255.\n",
    "    gts[i] = gts[i]*masks[i][:,:,2:]+(1-masks[i][:,:,2:])\n",
    "    gts[i] = np.concatenate([np.ones([420,1920,3],dtype=np.float32),gts[i],np.ones([420,1920,3],dtype=np.float32)],axis=0)\n",
    "    # print(gts[i].shape)\n",
    "    gt_tensor.append(interpolate(torch.from_numpy(gts[i]).cuda().moveaxis(-1,0)[None,...],size=(512,512),mode='bilinear')[0].moveaxis(0,-1))\n",
    "    render_tensor.append(torch.from_numpy(np.array(imgs[i],dtype=np.float32)/255.).cuda())\n",
    "    \n",
    "try:\n",
    "    gt_tensor = torch.stack(gt_tensor,dim=0).permute(0,3,1,2).cuda()\n",
    "    render_tensor = torch.stack(render_tensor,dim=0).permute(0,3,1,2).cuda()\n",
    "    KID.update(gt_tensor, real=True)\n",
    "    KID.update(render_tensor, real=False)\n",
    "    # KID.update(gt_tensor[1::2], real=False)\n",
    "    mean, std = KID.compute()\n",
    "    KID.reset()\n",
    "    print(path,':',mean,' ',std)\n",
    "except:\n",
    "    print('Error Calculating KID:',path)"
   ]
  },
  {
   "cell_type": "code",
   "execution_count": 12,
   "metadata": {},
   "outputs": [],
   "source": [
    "KID.reset()\n",
    "KID.update(gt_tensor, real=True)\n",
    "KID.update(render_tensor, real=False)"
   ]
  },
  {
   "cell_type": "code",
   "execution_count": 13,
   "metadata": {},
   "outputs": [
    {
     "data": {
      "text/plain": [
       "(tensor(0.7259, device='cuda:0'), tensor(0.0206, device='cuda:0'))"
      ]
     },
     "execution_count": 13,
     "metadata": {},
     "output_type": "execute_result"
    }
   ],
   "source": [
    "KID.compute()"
   ]
  },
  {
   "cell_type": "code",
   "execution_count": null,
   "metadata": {},
   "outputs": [],
   "source": [
    "cv2.imwrite('test.png',gt_tensor[0].moveaxis(0,-1)[:,:,[2,1,0]].cpu().numpy()*255.)\n",
    "cv2.imwrite('test1.png',render_tensor[0].moveaxis(0,-1)[:,:,[2,1,0]].cpu().numpy()*255.)"
   ]
  },
  {
   "cell_type": "code",
   "execution_count": 19,
   "metadata": {},
   "outputs": [
    {
     "data": {
      "text/plain": [
       "torch.Size([66, 3, 512, 512])"
      ]
     },
     "execution_count": 19,
     "metadata": {},
     "output_type": "execute_result"
    }
   ],
   "source": [
    "render_tensor.shape"
   ]
  },
  {
   "cell_type": "code",
   "execution_count": null,
   "metadata": {},
   "outputs": [],
   "source": [
    "0.9575,0.0789,0.0083\n",
    "0.9023,0.2157,0.0083"
   ]
  }
 ],
 "metadata": {
  "kernelspec": {
   "display_name": "myDGS",
   "language": "python",
   "name": "python3"
  },
  "language_info": {
   "codemirror_mode": {
    "name": "ipython",
    "version": 3
   },
   "file_extension": ".py",
   "mimetype": "text/x-python",
   "name": "python",
   "nbconvert_exporter": "python",
   "pygments_lexer": "ipython3",
   "version": "3.8.18"
  }
 },
 "nbformat": 4,
 "nbformat_minor": 2
}
